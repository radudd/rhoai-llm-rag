{
 "cells": [
  {
   "cell_type": "markdown",
   "id": "7fc0b257",
   "metadata": {},
   "source": [
    "This workbench require installation of the following packages: tensorflow, torch and py3nvml\n",
    "It is based on: https://github.com/redhat-gpte-devopsautomation/rhods-gpu-testing/blob/main/gpu-testing.ipynb"
   ]
  },
  {
   "cell_type": "code",
   "execution_count": null,
   "id": "62b3f04d",
   "metadata": {},
   "outputs": [],
   "source": [
    "!pip install tensorflow py3nvml torch\n",
    "#!pip --index-url <internal-artifact-registry-url> pip install tensorflow py3nvml torch"
   ]
  },
  {
   "cell_type": "markdown",
   "id": "4a07b427",
   "metadata": {},
   "source": [
    "Run a sample program using tensorflow library to test GPU's available and how many for this notebook?"
   ]
  },
  {
   "cell_type": "code",
   "execution_count": null,
   "id": "87d9f760",
   "metadata": {},
   "outputs": [],
   "source": [
    "import tensorflow as tf\n",
    "\n",
    "# Check if a GPU is available\n",
    "if tf.test.gpu_device_name():\n",
    "    print('GPU found')\n",
    "else:\n",
    "    print(\"No GPU found\")\n",
    "\n",
    "# Get the number of available GPUs\n",
    "gpus = tf.config.list_physical_devices('GPU')\n",
    "if gpus:\n",
    "    print(f\"Number of available GPUs: {len(gpus)}\")\n",
    "else:\n",
    "    print(\"No GPUs found\")\n"
   ]
  },
  {
   "cell_type": "markdown",
   "id": "444b110c",
   "metadata": {},
   "source": [
    "Use py3nvml to get details about the GPUs."
   ]
  },
  {
   "cell_type": "code",
   "execution_count": null,
   "id": "88824605",
   "metadata": {},
   "outputs": [],
   "source": [
    "import py3nvml\n",
    "\n",
    "# Initialize the NVML library\n",
    "py3nvml.py3nvml.nvmlInit()\n",
    "\n",
    "# Get the number of available GPUs\n",
    "num_gpus = py3nvml.py3nvml.nvmlDeviceGetCount()\n",
    "\n",
    "# Loop through all available GPUs and print their information\n",
    "for i in range(num_gpus):\n",
    "    handle = py3nvml.py3nvml.nvmlDeviceGetHandleByIndex(i)\n",
    "    print(f\"GPU {i}: {py3nvml.py3nvml.nvmlDeviceGetName(handle)}\")\n",
    "    print(f\"Memory usage: {py3nvml.py3nvml.nvmlDeviceGetMemoryInfo(handle).used / 1024**2:.2f} MB\")\n",
    "    print(f\"Temperature: {py3nvml.py3nvml.nvmlDeviceGetTemperature(handle, py3nvml.py3nvml.NVML_TEMPERATURE_GPU)} C\")\n",
    "    print(f\"Power usage: {py3nvml.py3nvml.nvmlDeviceGetPowerUsage(handle) / 1000:.2f} W\")\n",
    "    print()\n"
   ]
  },
  {
   "cell_type": "markdown",
   "id": "d63f2adb",
   "metadata": {},
   "source": [
    "Use subprocess to get mmore details about NVIDIA GPU's using nvidia-smi cli."
   ]
  },
  {
   "cell_type": "code",
   "execution_count": null,
   "id": "0835bf30",
   "metadata": {},
   "outputs": [],
   "source": [
    "output = subprocess.check_output(['nvidia-smi'])\n",
    "\n",
    "# Print the output\n",
    "print(output.decode('utf-8'))"
   ]
  },
  {
   "cell_type": "markdown",
   "id": "d4a33796",
   "metadata": {},
   "source": [
    "\n",
    "Run a sample neural network based program to rn on GPU's when detected."
   ]
  },
  {
   "cell_type": "code",
   "execution_count": null,
   "id": "78d582ac",
   "metadata": {},
   "outputs": [],
   "source": [
    "\n",
    "\n",
    "import torch\n",
    "import torch.nn as nn\n",
    "import torch.optim as optim\n",
    "\n",
    "# Check if a GPU is available\n",
    "device = torch.device(\"cuda\" if torch.cuda.is_available() else \"cpu\")\n",
    "print(f\"Using device: {device}\")\n",
    "\n",
    "# Define a simple neural network\n",
    "class Net(nn.Module):\n",
    "    def __init__(self):\n",
    "        super(Net, self).__init__()\n",
    "        self.fc1 = nn.Linear(10, 5)\n",
    "        self.fc2 = nn.Linear(5, 1)\n",
    "\n",
    "    def forward(self, x):\n",
    "        x = torch.relu(self.fc1(x))\n",
    "        x = self.fc2(x)\n",
    "        return x\n",
    "\n",
    "# Create a random input tensor\n",
    "input_tensor = torch.randn(1, 10)\n",
    "\n",
    "# Move the input tensor to the GPU\n",
    "input_tensor = input_tensor.to(device)\n",
    "\n",
    "# Create a neural network and move it to the GPU\n",
    "net = Net().to(device)\n",
    "\n",
    "# Define a loss function and an optimizer\n",
    "criterion = nn.MSELoss()\n",
    "optimizer = optim.SGD(net.parameters(), lr=0.01)\n",
    "\n",
    "# Train the neural network\n",
    "for i in range(100):\n",
    "    # Zero the gradients\n",
    "    optimizer.zero_grad()\n",
    "\n",
    "    # Forward pass\n",
    "    output_tensor = net(input_tensor)\n",
    "\n",
    "    # Compute the loss\n",
    "    target_tensor = torch.randn(1, 1)\n",
    "    target_tensor = target_tensor.to(device)\n",
    "    loss = criterion(output_tensor, target_tensor)\n",
    "\n",
    "    # Backward pass\n",
    "    loss.backward()\n",
    "\n",
    "    # Update the weights\n",
    "    optimizer.step()\n",
    "\n",
    "# Print the trained model\n",
    "print(net)\n",
    "\n"
   ]
  }
 ],
 "metadata": {
  "kernelspec": {
   "display_name": "Python 3",
   "language": "python",
   "name": "python3"
  },
  "language_info": {
   "name": "python",
   "version": "3.13.5"
  }
 },
 "nbformat": 4,
 "nbformat_minor": 5
}

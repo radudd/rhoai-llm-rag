{
 "cells": [
  {
   "cell_type": "markdown",
   "id": "94139dcf",
   "metadata": {},
   "source": [
    "Run this code on a PyTorch workbench"
   ]
  },
  {
   "cell_type": "code",
   "execution_count": null,
   "id": "5111923f",
   "metadata": {},
   "outputs": [],
   "source": [
    "import torch\n",
    "import time\n",
    "\n",
    "# Check CUDA availability\n",
    "if not torch.cuda.is_available():\n",
    "\traise SystemError(\"CUDA is not available. Make sure the NVIDIA drivers are installed correctly.\")\n",
    "\n",
    "# Get device info\n",
    "device = torch.device(\"cuda:0\")\n",
    "gpu_name = torch.cuda.get_device_name(0)\n",
    "print(f\"Using GPU: {gpu_name}\")\n",
    "\n",
    "# Make sure it's L4\n",
    "if \"L4\" not in gpu_name:\n",
    "\tprint(\"Warning: This is not an NVIDIA L4 GPU. Detected:\", gpu_name)\n",
    "\n",
    "# Create large tensors and perform a simple operation\n",
    "size = 10_000_000\n",
    "x = torch.rand(size, device=device)\n",
    "y = torch.rand(size, device=device)\n",
    "\n",
    "# Time the operation\n",
    "start_time = time.time()\n",
    "z = x * y + x\n",
    "torch.cuda.synchronize()  # Wait for the GPU to finish\n",
    "end_time = time.time()\n",
    "\n",
    "# Print results\n",
    "print(\"First 5 elements of result tensor:\", z[:5])\n",
    "print(f\"Time taken on GPU: {end_time - start_time:.6f} seconds\")\n"
   ]
  }
 ],
 "metadata": {
  "kernelspec": {
   "display_name": "Python 3",
   "language": "python",
   "name": "python3"
  },
  "language_info": {
   "name": "python",
   "version": "3.13.5"
  }
 },
 "nbformat": 4,
 "nbformat_minor": 5
}
